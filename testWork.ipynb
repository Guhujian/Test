{
 "cells": [
  {
   "cell_type": "code",
   "execution_count": 13,
   "id": "35c246",
   "metadata": {
    "collapsed": false
   },
   "outputs": [
    {
     "name": "stdout",
     "output_type": "stream",
     "text": [
      "4\n"
     ]
    }
   ],
   "source": [
    "# question1\n",
    "from typing import List\n",
    "def func(pricesA:List[int],pricesB:List[int]):\n",
    "    lenA = len(pricesA)\n",
    "    lenB = len(pricesB)\n",
    "    minRes=abs(pricesA[0]-pricesB[0])\n",
    "    for i in range(0,lenA):\n",
    "       for j in range(0,lenB):\n",
    "        minRes = min(minRes,abs(pricesA[i]-pricesB[j]))\n",
    "    \n",
    "    return minRes\n",
    "        \n",
    "\n",
    "\n",
    "pricesA=[99,150,200]\n",
    "pricesB=[210,145,95]\n",
    "res=func(pricesA,pricesB)\n",
    "print(res)"
   ]
  },
  {
   "cell_type": "code",
   "execution_count": 12,
   "id": "b28b81",
   "metadata": {
    "collapsed": false
   },
   "outputs": [
    {
     "name": "stdout",
     "output_type": "stream",
     "text": [
      "7\n"
     ]
    }
   ],
   "source": [
    "# question2\n",
    "from typing import List\n",
    "\n",
    "def func(profits: List[int]) -> int:\n",
    "    n = len(profits)\n",
    "    if n==0:\n",
    "        return 0\n",
    "    \n",
    "    if n == 1:\n",
    "        return profits[0]\n",
    "    dp = [0] * n\n",
    "    dp[0] = profits[0]\n",
    "    dp[1] = max(profits[0], profits[1])\n",
    "    for i in range(2, n):\n",
    "        dp[i] = max(dp[i-1], dp[i-2] + profits[i])\n",
    "    return dp[-1]\n",
    "\n",
    "profits = [3,5,4,1]\n",
    "res=func(profits)\n",
    "print(res)"
   ]
  },
  {
   "cell_type": "code",
   "execution_count": 0,
   "id": "18b0ea",
   "metadata": {
    "collapsed": false
   },
   "outputs": [
   ],
   "source": [
   ]
  }
 ],
 "metadata": {
  "kernelspec": {
   "argv": [
    "/usr/bin/python3",
    "-m",
    "ipykernel",
    "--HistoryManager.enabled=False",
    "--matplotlib=inline",
    "-c",
    "%config InlineBackend.figure_formats = set(['retina'])\nimport matplotlib; matplotlib.rcParams['figure.figsize'] = (12, 7)",
    "-f",
    "{connection_file}"
   ],
   "display_name": "Python 3 (system-wide)",
   "env": {
   },
   "language": "python",
   "metadata": {
    "cocalc": {
     "description": "Python 3 programming language",
     "priority": 100,
     "url": "https://www.python.org/"
    }
   },
   "name": "python3",
   "resource_dir": "/ext/jupyter/kernels/python3"
  },
  "language_info": {
   "codemirror_mode": {
    "name": "ipython",
    "version": 3
   },
   "file_extension": ".py",
   "mimetype": "text/x-python",
   "name": "python",
   "nbconvert_exporter": "python",
   "pygments_lexer": "ipython3",
   "version": "3.10.12"
  }
 },
 "nbformat": 4,
 "nbformat_minor": 4
}